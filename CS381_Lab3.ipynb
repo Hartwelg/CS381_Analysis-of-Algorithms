{
  "nbformat": 4,
  "nbformat_minor": 0,
  "metadata": {
    "colab": {
      "name": "CS381 Lab3.ipynb",
      "provenance": [],
      "collapsed_sections": [],
      "include_colab_link": true
    },
    "kernelspec": {
      "name": "python3",
      "display_name": "Python 3"
    },
    "widgets": {
      "application/vnd.jupyter.widget-state+json": {
        "1be81dd2c85b4af8b9e3faf63c4c982a": {
          "model_module": "@jupyter-widgets/controls",
          "model_name": "HBoxModel",
          "state": {
            "_view_name": "HBoxView",
            "_dom_classes": [],
            "_model_name": "HBoxModel",
            "_view_module": "@jupyter-widgets/controls",
            "_model_module_version": "1.5.0",
            "_view_count": null,
            "_view_module_version": "1.5.0",
            "box_style": "",
            "layout": "IPY_MODEL_988985e90a3842529022b980c038eb61",
            "_model_module": "@jupyter-widgets/controls",
            "children": [
              "IPY_MODEL_2cb4ed76c9f9481bb2ff97cbfe991660",
              "IPY_MODEL_56bba390415f4a34906ab429eeada1a1"
            ]
          }
        },
        "988985e90a3842529022b980c038eb61": {
          "model_module": "@jupyter-widgets/base",
          "model_name": "LayoutModel",
          "state": {
            "_view_name": "LayoutView",
            "grid_template_rows": null,
            "right": null,
            "justify_content": null,
            "_view_module": "@jupyter-widgets/base",
            "overflow": null,
            "_model_module_version": "1.2.0",
            "_view_count": null,
            "flex_flow": null,
            "width": null,
            "min_width": null,
            "border": null,
            "align_items": null,
            "bottom": null,
            "_model_module": "@jupyter-widgets/base",
            "top": null,
            "grid_column": null,
            "overflow_y": null,
            "overflow_x": null,
            "grid_auto_flow": null,
            "grid_area": null,
            "grid_template_columns": null,
            "flex": null,
            "_model_name": "LayoutModel",
            "justify_items": null,
            "grid_row": null,
            "max_height": null,
            "align_content": null,
            "visibility": null,
            "align_self": null,
            "height": null,
            "min_height": null,
            "padding": null,
            "grid_auto_rows": null,
            "grid_gap": null,
            "max_width": null,
            "order": null,
            "_view_module_version": "1.2.0",
            "grid_template_areas": null,
            "object_position": null,
            "object_fit": null,
            "grid_auto_columns": null,
            "margin": null,
            "display": null,
            "left": null
          }
        },
        "2cb4ed76c9f9481bb2ff97cbfe991660": {
          "model_module": "@jupyter-widgets/controls",
          "model_name": "FloatProgressModel",
          "state": {
            "_view_name": "ProgressView",
            "style": "IPY_MODEL_1ca60af4672c47e684559f80093dd63a",
            "_dom_classes": [],
            "description": "",
            "_model_name": "FloatProgressModel",
            "bar_style": "info",
            "max": 1,
            "_view_module": "@jupyter-widgets/controls",
            "_model_module_version": "1.5.0",
            "value": 0,
            "_view_count": null,
            "_view_module_version": "1.5.0",
            "orientation": "horizontal",
            "min": 0,
            "description_tooltip": null,
            "_model_module": "@jupyter-widgets/controls",
            "layout": "IPY_MODEL_b92eb6bf366f42d081e8a9b6527c4d90"
          }
        },
        "56bba390415f4a34906ab429eeada1a1": {
          "model_module": "@jupyter-widgets/controls",
          "model_name": "HTMLModel",
          "state": {
            "_view_name": "HTMLView",
            "style": "IPY_MODEL_23cf7c9a667f4fe2810ce68fb58c2bf7",
            "_dom_classes": [],
            "description": "",
            "_model_name": "HTMLModel",
            "placeholder": "​",
            "_view_module": "@jupyter-widgets/controls",
            "_model_module_version": "1.5.0",
            "value": " 0/? [00:00&lt;?, ?it/s]",
            "_view_count": null,
            "_view_module_version": "1.5.0",
            "description_tooltip": null,
            "_model_module": "@jupyter-widgets/controls",
            "layout": "IPY_MODEL_b8cae139cd0a46f49070032e21552663"
          }
        },
        "1ca60af4672c47e684559f80093dd63a": {
          "model_module": "@jupyter-widgets/controls",
          "model_name": "ProgressStyleModel",
          "state": {
            "_view_name": "StyleView",
            "_model_name": "ProgressStyleModel",
            "description_width": "initial",
            "_view_module": "@jupyter-widgets/base",
            "_model_module_version": "1.5.0",
            "_view_count": null,
            "_view_module_version": "1.2.0",
            "bar_color": null,
            "_model_module": "@jupyter-widgets/controls"
          }
        },
        "b92eb6bf366f42d081e8a9b6527c4d90": {
          "model_module": "@jupyter-widgets/base",
          "model_name": "LayoutModel",
          "state": {
            "_view_name": "LayoutView",
            "grid_template_rows": null,
            "right": null,
            "justify_content": null,
            "_view_module": "@jupyter-widgets/base",
            "overflow": null,
            "_model_module_version": "1.2.0",
            "_view_count": null,
            "flex_flow": null,
            "width": null,
            "min_width": null,
            "border": null,
            "align_items": null,
            "bottom": null,
            "_model_module": "@jupyter-widgets/base",
            "top": null,
            "grid_column": null,
            "overflow_y": null,
            "overflow_x": null,
            "grid_auto_flow": null,
            "grid_area": null,
            "grid_template_columns": null,
            "flex": null,
            "_model_name": "LayoutModel",
            "justify_items": null,
            "grid_row": null,
            "max_height": null,
            "align_content": null,
            "visibility": null,
            "align_self": null,
            "height": null,
            "min_height": null,
            "padding": null,
            "grid_auto_rows": null,
            "grid_gap": null,
            "max_width": null,
            "order": null,
            "_view_module_version": "1.2.0",
            "grid_template_areas": null,
            "object_position": null,
            "object_fit": null,
            "grid_auto_columns": null,
            "margin": null,
            "display": null,
            "left": null
          }
        },
        "23cf7c9a667f4fe2810ce68fb58c2bf7": {
          "model_module": "@jupyter-widgets/controls",
          "model_name": "DescriptionStyleModel",
          "state": {
            "_view_name": "StyleView",
            "_model_name": "DescriptionStyleModel",
            "description_width": "",
            "_view_module": "@jupyter-widgets/base",
            "_model_module_version": "1.5.0",
            "_view_count": null,
            "_view_module_version": "1.2.0",
            "_model_module": "@jupyter-widgets/controls"
          }
        },
        "b8cae139cd0a46f49070032e21552663": {
          "model_module": "@jupyter-widgets/base",
          "model_name": "LayoutModel",
          "state": {
            "_view_name": "LayoutView",
            "grid_template_rows": null,
            "right": null,
            "justify_content": null,
            "_view_module": "@jupyter-widgets/base",
            "overflow": null,
            "_model_module_version": "1.2.0",
            "_view_count": null,
            "flex_flow": null,
            "width": null,
            "min_width": null,
            "border": null,
            "align_items": null,
            "bottom": null,
            "_model_module": "@jupyter-widgets/base",
            "top": null,
            "grid_column": null,
            "overflow_y": null,
            "overflow_x": null,
            "grid_auto_flow": null,
            "grid_area": null,
            "grid_template_columns": null,
            "flex": null,
            "_model_name": "LayoutModel",
            "justify_items": null,
            "grid_row": null,
            "max_height": null,
            "align_content": null,
            "visibility": null,
            "align_self": null,
            "height": null,
            "min_height": null,
            "padding": null,
            "grid_auto_rows": null,
            "grid_gap": null,
            "max_width": null,
            "order": null,
            "_view_module_version": "1.2.0",
            "grid_template_areas": null,
            "object_position": null,
            "object_fit": null,
            "grid_auto_columns": null,
            "margin": null,
            "display": null,
            "left": null
          }
        },
        "a3e6517b4aa34110bb38c8d4a117234f": {
          "model_module": "@jupyter-widgets/controls",
          "model_name": "HBoxModel",
          "state": {
            "_view_name": "HBoxView",
            "_dom_classes": [],
            "_model_name": "HBoxModel",
            "_view_module": "@jupyter-widgets/controls",
            "_model_module_version": "1.5.0",
            "_view_count": null,
            "_view_module_version": "1.5.0",
            "box_style": "",
            "layout": "IPY_MODEL_234ba72890ce4fe7811984d30cddd64b",
            "_model_module": "@jupyter-widgets/controls",
            "children": [
              "IPY_MODEL_7b8d2911b8b34dab8e224ff6a2da9e9e",
              "IPY_MODEL_654b40250c6745b1a2b9e04f3cdf8cef"
            ]
          }
        },
        "234ba72890ce4fe7811984d30cddd64b": {
          "model_module": "@jupyter-widgets/base",
          "model_name": "LayoutModel",
          "state": {
            "_view_name": "LayoutView",
            "grid_template_rows": null,
            "right": null,
            "justify_content": null,
            "_view_module": "@jupyter-widgets/base",
            "overflow": null,
            "_model_module_version": "1.2.0",
            "_view_count": null,
            "flex_flow": null,
            "width": null,
            "min_width": null,
            "border": null,
            "align_items": null,
            "bottom": null,
            "_model_module": "@jupyter-widgets/base",
            "top": null,
            "grid_column": null,
            "overflow_y": null,
            "overflow_x": null,
            "grid_auto_flow": null,
            "grid_area": null,
            "grid_template_columns": null,
            "flex": null,
            "_model_name": "LayoutModel",
            "justify_items": null,
            "grid_row": null,
            "max_height": null,
            "align_content": null,
            "visibility": null,
            "align_self": null,
            "height": null,
            "min_height": null,
            "padding": null,
            "grid_auto_rows": null,
            "grid_gap": null,
            "max_width": null,
            "order": null,
            "_view_module_version": "1.2.0",
            "grid_template_areas": null,
            "object_position": null,
            "object_fit": null,
            "grid_auto_columns": null,
            "margin": null,
            "display": null,
            "left": null
          }
        },
        "7b8d2911b8b34dab8e224ff6a2da9e9e": {
          "model_module": "@jupyter-widgets/controls",
          "model_name": "FloatProgressModel",
          "state": {
            "_view_name": "ProgressView",
            "style": "IPY_MODEL_e3d931ebf6674abe863d6f515172c442",
            "_dom_classes": [],
            "description": "100%",
            "_model_name": "FloatProgressModel",
            "bar_style": "success",
            "max": 13,
            "_view_module": "@jupyter-widgets/controls",
            "_model_module_version": "1.5.0",
            "value": 13,
            "_view_count": null,
            "_view_module_version": "1.5.0",
            "orientation": "horizontal",
            "min": 0,
            "description_tooltip": null,
            "_model_module": "@jupyter-widgets/controls",
            "layout": "IPY_MODEL_0199ad9dd86c434fa7ba65f95dc73a5e"
          }
        },
        "654b40250c6745b1a2b9e04f3cdf8cef": {
          "model_module": "@jupyter-widgets/controls",
          "model_name": "HTMLModel",
          "state": {
            "_view_name": "HTMLView",
            "style": "IPY_MODEL_87c37aba66e44da1af3b6d934a94f879",
            "_dom_classes": [],
            "description": "",
            "_model_name": "HTMLModel",
            "placeholder": "​",
            "_view_module": "@jupyter-widgets/controls",
            "_model_module_version": "1.5.0",
            "value": " 13/13 [00:05&lt;00:00,  2.30it/s]",
            "_view_count": null,
            "_view_module_version": "1.5.0",
            "description_tooltip": null,
            "_model_module": "@jupyter-widgets/controls",
            "layout": "IPY_MODEL_e33ac5983f3e4481a280c9ef613940f9"
          }
        },
        "e3d931ebf6674abe863d6f515172c442": {
          "model_module": "@jupyter-widgets/controls",
          "model_name": "ProgressStyleModel",
          "state": {
            "_view_name": "StyleView",
            "_model_name": "ProgressStyleModel",
            "description_width": "initial",
            "_view_module": "@jupyter-widgets/base",
            "_model_module_version": "1.5.0",
            "_view_count": null,
            "_view_module_version": "1.2.0",
            "bar_color": null,
            "_model_module": "@jupyter-widgets/controls"
          }
        },
        "0199ad9dd86c434fa7ba65f95dc73a5e": {
          "model_module": "@jupyter-widgets/base",
          "model_name": "LayoutModel",
          "state": {
            "_view_name": "LayoutView",
            "grid_template_rows": null,
            "right": null,
            "justify_content": null,
            "_view_module": "@jupyter-widgets/base",
            "overflow": null,
            "_model_module_version": "1.2.0",
            "_view_count": null,
            "flex_flow": null,
            "width": null,
            "min_width": null,
            "border": null,
            "align_items": null,
            "bottom": null,
            "_model_module": "@jupyter-widgets/base",
            "top": null,
            "grid_column": null,
            "overflow_y": null,
            "overflow_x": null,
            "grid_auto_flow": null,
            "grid_area": null,
            "grid_template_columns": null,
            "flex": null,
            "_model_name": "LayoutModel",
            "justify_items": null,
            "grid_row": null,
            "max_height": null,
            "align_content": null,
            "visibility": null,
            "align_self": null,
            "height": null,
            "min_height": null,
            "padding": null,
            "grid_auto_rows": null,
            "grid_gap": null,
            "max_width": null,
            "order": null,
            "_view_module_version": "1.2.0",
            "grid_template_areas": null,
            "object_position": null,
            "object_fit": null,
            "grid_auto_columns": null,
            "margin": null,
            "display": null,
            "left": null
          }
        },
        "87c37aba66e44da1af3b6d934a94f879": {
          "model_module": "@jupyter-widgets/controls",
          "model_name": "DescriptionStyleModel",
          "state": {
            "_view_name": "StyleView",
            "_model_name": "DescriptionStyleModel",
            "description_width": "",
            "_view_module": "@jupyter-widgets/base",
            "_model_module_version": "1.5.0",
            "_view_count": null,
            "_view_module_version": "1.2.0",
            "_model_module": "@jupyter-widgets/controls"
          }
        },
        "e33ac5983f3e4481a280c9ef613940f9": {
          "model_module": "@jupyter-widgets/base",
          "model_name": "LayoutModel",
          "state": {
            "_view_name": "LayoutView",
            "grid_template_rows": null,
            "right": null,
            "justify_content": null,
            "_view_module": "@jupyter-widgets/base",
            "overflow": null,
            "_model_module_version": "1.2.0",
            "_view_count": null,
            "flex_flow": null,
            "width": null,
            "min_width": null,
            "border": null,
            "align_items": null,
            "bottom": null,
            "_model_module": "@jupyter-widgets/base",
            "top": null,
            "grid_column": null,
            "overflow_y": null,
            "overflow_x": null,
            "grid_auto_flow": null,
            "grid_area": null,
            "grid_template_columns": null,
            "flex": null,
            "_model_name": "LayoutModel",
            "justify_items": null,
            "grid_row": null,
            "max_height": null,
            "align_content": null,
            "visibility": null,
            "align_self": null,
            "height": null,
            "min_height": null,
            "padding": null,
            "grid_auto_rows": null,
            "grid_gap": null,
            "max_width": null,
            "order": null,
            "_view_module_version": "1.2.0",
            "grid_template_areas": null,
            "object_position": null,
            "object_fit": null,
            "grid_auto_columns": null,
            "margin": null,
            "display": null,
            "left": null
          }
        }
      }
    }
  },
  "cells": [
    {
      "cell_type": "markdown",
      "metadata": {
        "id": "view-in-github",
        "colab_type": "text"
      },
      "source": [
        "<a href=\"https://colab.research.google.com/github/Hartwelg/CS381_Programming-Language-Fundamentals/blob/assignment_3/CS381_Lab3.ipynb\" target=\"_parent\"><img src=\"https://colab.research.google.com/assets/colab-badge.svg\" alt=\"Open In Colab\"/></a>"
      ]
    },
    {
      "cell_type": "markdown",
      "metadata": {
        "id": "GZk8sYIViU67"
      },
      "source": [
        "# Rock, Paper, Scissors, Lizard, Spock"
      ]
    },
    {
      "cell_type": "code",
      "metadata": {
        "id": "Nt2G4glZrN7w"
      },
      "source": [
        "# Gauge Hartwell\n",
        "# Hartwelg@oregonstate.edu\n",
        "# Programming Exercise 3\n",
        "# CS 381 PLF Summer 2020"
      ],
      "execution_count": null,
      "outputs": []
    },
    {
      "cell_type": "markdown",
      "metadata": {
        "id": "eGhAsIGHoBcD"
      },
      "source": [
        "# Game Overview"
      ]
    },
    {
      "cell_type": "markdown",
      "metadata": {
        "id": "ZIIoib9tml8-"
      },
      "source": [
        "Rock-paper-scissors-lizard-Spock is a five-gesture expansion of the classic game rock-paper-scissors. The game was invented by Sam Kass, but popularized in this clip from the TV show 'Big Bang Theory'.\n",
        "\n",
        "You may also find the Wikipedia page useful: http://en.wikipedia.org/wiki/Rock-paper-scissors-lizard-Spock."
      ]
    },
    {
      "cell_type": "code",
      "metadata": {
        "id": "VKAnFvtSl0aR",
        "outputId": "3b4cd643-f0c1-4216-8a8e-468df8e3f48b",
        "colab": {
          "base_uri": "https://localhost:8080/",
          "height": 321
        }
      },
      "source": [
        "from IPython.display import YouTubeVideo\n",
        "YouTubeVideo('x5Q6-wMx-K8')"
      ],
      "execution_count": null,
      "outputs": [
        {
          "output_type": "execute_result",
          "data": {
            "text/html": [
              "\n",
              "        <iframe\n",
              "            width=\"400\"\n",
              "            height=\"300\"\n",
              "            src=\"https://www.youtube.com/embed/x5Q6-wMx-K8\"\n",
              "            frameborder=\"0\"\n",
              "            allowfullscreen\n",
              "        ></iframe>\n",
              "        "
            ],
            "text/plain": [
              "<IPython.lib.display.YouTubeVideo at 0x7fdc34bb5fd0>"
            ],
            "image/jpeg": "[encoded data removed]"
          },
          "metadata": {
            "tags": []
          },
          "execution_count": 2
        }
      ]
    },
    {
      "cell_type": "markdown",
      "metadata": {
        "id": "6RxOYXGinX8J"
      },
      "source": [
        "### **Implementation**\n",
        "For this Lab, you will implement the game, in Python, in an object-oriented way. Failure to implement the game using OO paradigms (as described below) will result in significant loss of points."
      ]
    },
    {
      "cell_type": "code",
      "metadata": {
        "id": "YCmlmZVB1LoZ"
      },
      "source": [
        "# place any import statements here\n",
        "import sys\n",
        "from random import *\n",
        "# add libraries"
      ],
      "execution_count": null,
      "outputs": []
    },
    {
      "cell_type": "markdown",
      "metadata": {
        "id": "AZiNI3kVNO_w"
      },
      "source": [
        "# Game State"
      ]
    },
    {
      "cell_type": "markdown",
      "metadata": {
        "id": "7Wg8HGMUNV4-"
      },
      "source": [
        "This will be passed to the player constructor. Player types that need access to previous game states can then access that information from this object."
      ]
    },
    {
      "cell_type": "code",
      "metadata": {
        "id": "OvTs6WD4miYZ"
      },
      "source": [
        "# run this; do not edit\n",
        "class GameState:\n",
        "  def __init__ (self):\n",
        "    self.move_history = []\n",
        "    self.win1 = 0\n",
        "    self.win2 = 0\n",
        "  \n",
        "  def add_win1(self):\n",
        "    self.win1 += 1\n",
        "  \n",
        "  def add_win2(self):\n",
        "    self.win2 += 1\n",
        "\n",
        "  def append_history(self, move):\n",
        "    self.move_history.append(move)"
      ],
      "execution_count": null,
      "outputs": []
    },
    {
      "cell_type": "markdown",
      "metadata": {
        "id": "hnbuosWpkwOO"
      },
      "source": [
        "# Element Class"
      ]
    },
    {
      "cell_type": "markdown",
      "metadata": {
        "id": "v6xoopap-TdB"
      },
      "source": [
        "### Element"
      ]
    },
    {
      "cell_type": "markdown",
      "metadata": {
        "id": "TuB5anDFoPNT"
      },
      "source": [
        "First create a class named `Element`. This class will serve as the superclass to five subclasses: `Rock`, `Paper`, `Scissors`, `Lizard`, `Spock`.\n",
        "\n",
        "The `Element` class has one instance variable name, which will store the name of the `Element` (e.g., 'Rock', 'Lizard', etc). The constructor will take a name as a parameter and will save it to the instance variable name. \n",
        "\n",
        "Next, create a getter method called `name()` that returns the instance variable name. \n",
        "\n",
        "Lastly, create a method `compareTo(.)` that takes an instance of the class `Element` as an argument. In the superclass `Element`, leave this method undefined, using the line `raise NotImplementedError('Not yet implemented')` to throw an exception. You will instantiate the method in the five concrete subclasses."
      ]
    },
    {
      "cell_type": "code",
      "metadata": {
        "id": "GgCd4ElSkxZS"
      },
      "source": [
        "# Element parent class\n",
        "class Element(object):\n",
        "    def __init__(self, name):\n",
        "      self._name = name\n",
        "    def name(self):\n",
        "      return self._name\n",
        "    def compareTo(self):\n",
        "      raise NotImplementedError('Not yet implemented')\n",
        "#print('your code here')"
      ],
      "execution_count": null,
      "outputs": []
    },
    {
      "cell_type": "markdown",
      "metadata": {
        "id": "rCouW4ijtyyK"
      },
      "source": [
        "As the next step, create your five subclasses: `Rock`, `Paper`, `Scissors`, `Lizard`, `Spock`.\n",
        "\n",
        "For each you should only need to implement (override) the `compareTo` method. Python allows multiple return types. Your `compareTo` method will compare the argument against its own name and determine the outcome, returning two strings.\n",
        "\n",
        "The first return value is a string describing one of the following outcomes:\n",
        "\n",
        "*   *Scissors cut Paper*\n",
        "*   *Paper covers Rock*\n",
        "*   *Rock crushes Lizard*\n",
        "*   *Lizard poisons Spock*\n",
        "*   *Spock smashes Scissors*\n",
        "*   *Scissors decapitate Lizard*\n",
        "*   *Lizard eats Paper*\n",
        "*   *Paper disproves Spock*\n",
        "*   *Spock vaporizes Rock*\n",
        "*   *Rock crushes Scissors*\n",
        "\n",
        "For a tie, you should output a string such as '*Rock equals Rock*'.\n",
        "\n",
        "The second return value will return one the following round outcomes:\n",
        "*   Win \n",
        "*   Lose \n",
        "*   Tie"
      ]
    },
    {
      "cell_type": "markdown",
      "metadata": {
        "id": "9eD5uiKs-b2x"
      },
      "source": [
        "### Rock"
      ]
    },
    {
      "cell_type": "code",
      "metadata": {
        "id": "0Mt1AAm7pig0"
      },
      "source": [
        "# Rock subclass\n",
        "class Rock(Element):\n",
        "  def compareTo(self, arg):\n",
        "    if (arg.name() == 'Paper'):\n",
        "      return 'Paper covers Rock', 'Lose'\n",
        "    elif (arg.name() == 'Lizard'):\n",
        "      return 'Rock crushes Lizard', 'Win'\n",
        "    elif (arg.name() == 'Spock'):\n",
        "      return 'Spock vaporizes Rock', 'Lose'\n",
        "    elif (arg.name() == 'Scissors'):\n",
        "      return 'Rock crushes Scissors', 'Win'\n",
        "    elif (arg.name() == self.name()):\n",
        "      return 'Rock equals Rock', 'Tie'\n",
        "#print('your code here')"
      ],
      "execution_count": null,
      "outputs": []
    },
    {
      "cell_type": "markdown",
      "metadata": {
        "id": "Y-5anjly-hnP"
      },
      "source": [
        "### Paper"
      ]
    },
    {
      "cell_type": "code",
      "metadata": {
        "id": "KTYZ3eY4pleI"
      },
      "source": [
        "# Paper subclass\n",
        "class Paper(Element):\n",
        "  def compareTo(self, arg):\n",
        "    if (arg.name() == 'Rock'):\n",
        "      return 'Paper covers Rock', 'Win'\n",
        "    elif (arg.name() == 'Scissors'):\n",
        "      return 'Scissors cuts Paper', 'Lose'\n",
        "    elif (arg.name() == 'Lizard'):\n",
        "      return 'Lizard eats Paper', 'Lose'\n",
        "    elif (arg.name() == 'Spock'):\n",
        "      return 'Paper disproves Spock', 'Win'\n",
        "    elif (arg.name() == self.name()):\n",
        "      return 'Paper equals Paper', 'Tie'\n",
        "#print('your code here')"
      ],
      "execution_count": null,
      "outputs": []
    },
    {
      "cell_type": "markdown",
      "metadata": {
        "id": "wZuDe9oo-jEH"
      },
      "source": [
        "### Scissors"
      ]
    },
    {
      "cell_type": "code",
      "metadata": {
        "id": "zj3Aox-qpoCM"
      },
      "source": [
        "# Scissors subclass\n",
        "class Scissors(Element):\n",
        "  def compareTo(self, arg):\n",
        "    if (arg.name() == 'Paper'):\n",
        "      return 'Scissors cuts Paper', 'Win'\n",
        "    elif (arg.name() == 'Spock'):\n",
        "      return 'Spock smashes scissors', 'Lose'\n",
        "    elif (arg.name() == 'Lizard'):\n",
        "      return 'Scissors decapitate Lizard', 'Win'\n",
        "    elif (arg.name() == 'Rock'):\n",
        "      return 'Rock crushes Scissors', 'Lose'\n",
        "    elif (arg.name() == self.name()):\n",
        "      return 'Scissors equals Scissors', 'Tie'\n",
        "#print('your code here')"
      ],
      "execution_count": null,
      "outputs": []
    },
    {
      "cell_type": "markdown",
      "metadata": {
        "id": "jR0Pgais-qKf"
      },
      "source": [
        "### Lizard"
      ]
    },
    {
      "cell_type": "code",
      "metadata": {
        "id": "XFDL_wrPpqW1"
      },
      "source": [
        "# Lizard sublclass\n",
        "class Lizard(Element):\n",
        "  def compareTo(self, arg):\n",
        "    if (arg.name() == 'Rock'):\n",
        "      return 'Rock crushes Lizard', 'Lose'\n",
        "    elif (arg.name() == 'Spock'):  \n",
        "      return 'Lizard poisons Spock', 'Win'\n",
        "    elif (arg.name() == 'Scissors'):  \n",
        "      return 'Scissors decapitate Lizard', 'Lose'\n",
        "    elif (arg.name() == 'Paper'):  \n",
        "      return 'Lizard eats Paper', 'Win'\n",
        "    elif (arg.name() == self.name()):  \n",
        "      return 'Lizard equals Lizard', 'Tie'\n",
        "#print('your code here')"
      ],
      "execution_count": null,
      "outputs": []
    },
    {
      "cell_type": "markdown",
      "metadata": {
        "id": "HLegjyJ5-sLf"
      },
      "source": [
        "### Spock"
      ]
    },
    {
      "cell_type": "code",
      "metadata": {
        "id": "RPeNeOVVptHM"
      },
      "source": [
        "# Spock subclass\n",
        "class Spock(Element):\n",
        "  def compareTo(self, arg):\n",
        "    if (arg.name() == 'Lizard'):  \n",
        "      return 'Lizard poisons Spock', 'Lose'\n",
        "    elif (arg.name() == 'Scissors'):  \n",
        "      return 'Spock smashes scissors', 'Win'\n",
        "    elif (arg.name() == 'Paper'):  \n",
        "      return 'Paper disproves Spock', 'Lose'\n",
        "    elif (arg.name() == 'Rock'):  \n",
        "      return 'Spock vaporizes Rock', 'Win'\n",
        "    elif (arg.name() == self.name()):  \n",
        "      return 'Spock equals Spock', 'Tie'\n",
        "#print('your code here')"
      ],
      "execution_count": null,
      "outputs": []
    },
    {
      "cell_type": "markdown",
      "metadata": {
        "id": "hN_u6Wpit3s-"
      },
      "source": [
        "Now create one concrete instance of each of the five `Element`s and store these in a global list named `moves`. Throughout the lab, your will reuse these instances of the moves, rather than creating new instances as needed."
      ]
    },
    {
      "cell_type": "code",
      "metadata": {
        "id": "YpDIPK33py9_"
      },
      "source": [
        "# Concrete instances saved for reuse\n",
        "rock = Rock('Rock')\n",
        "paper = Paper('Paper')\n",
        "scissors = Scissors('Scissors')\n",
        "lizard = Lizard('Lizard')\n",
        "spock = Spock('Spock')\n",
        "# concrete instances\n",
        "#print('your code here')\n",
        "\n",
        "# array of instances for reuse\n",
        "moves = [rock, paper, scissors, lizard, spock]\n",
        "\n",
        "#print('your code here')"
      ],
      "execution_count": null,
      "outputs": []
    },
    {
      "cell_type": "markdown",
      "metadata": {
        "id": "gi2J8hqrpD1C"
      },
      "source": [
        "### **Element Self-Check**"
      ]
    },
    {
      "cell_type": "markdown",
      "metadata": {
        "id": "WseRtyWYt78j"
      },
      "source": [
        "This self-check should yield the following output:\n",
        "```\n",
        "('Paper covers rock', 'Lose')\n",
        "('Paper covers rock', 'Win')\n",
        "('Rock equals rock', 'Tie')\n",
        "```"
      ]
    },
    {
      "cell_type": "code",
      "metadata": {
        "id": "BIi1Zmb6pCyj",
        "outputId": "78913245-27d7-4924-e075-d7e4caac75be",
        "colab": {
          "base_uri": "https://localhost:8080/",
          "height": 73
        }
      },
      "source": [
        "print(rock.compareTo(paper))\n",
        "print(paper.compareTo(rock))\n",
        "print(rock.compareTo(rock))"
      ],
      "execution_count": null,
      "outputs": [
        {
          "output_type": "stream",
          "text": [
            "('Paper covers Rock', 'Lose')\n",
            "('Paper covers Rock', 'Win')\n",
            "('Rock equals Rock', 'Tie')\n"
          ],
          "name": "stdout"
        }
      ]
    },
    {
      "cell_type": "markdown",
      "metadata": {
        "id": "kgT8IzlNu2Lr"
      },
      "source": [
        "# Player Class"
      ]
    },
    {
      "cell_type": "markdown",
      "metadata": {
        "id": "wiSXN93HwELI"
      },
      "source": [
        "Next you will create a series of classes for the Players. \n",
        "\n",
        "Begin with a superclass named `Player`. This class has one instance variable `name`. Create a getter method called `name()` that returns the variable name, which is set via the constructor. Also create a method `play()`. In the superclass `Player`, leave this method undefined, using the line raise `NotImplementedError('Not yet implemented')` to throw an exception. You will instantiate the method in the concrete subclasses. Now you are ready to create the concrete Player classes."
      ]
    },
    {
      "cell_type": "markdown",
      "metadata": {
        "id": "9gsH64jt_a-W"
      },
      "source": [
        ">***Pro Tip:***\n",
        "> \n",
        ">Constructors in Python explicitly reference self. If you are new to Python, make sure to study the differences between constructors in C++/Java and Python."
      ]
    },
    {
      "cell_type": "code",
      "metadata": {
        "id": "j80daSaBwcSA"
      },
      "source": [
        "# Player parent class\n",
        "class Player(object):\n",
        "  def __init__(self, name, GameState):\n",
        "    self._name = name\n",
        "    self.game = GameState\n",
        "  def name(self):\n",
        "    return self._name\n",
        "  def play(self):\n",
        "    raise NotImplementedError('Not yet implemented')\n",
        "#print('your code here')"
      ],
      "execution_count": null,
      "outputs": []
    },
    {
      "cell_type": "markdown",
      "metadata": {
        "id": "-9rJxtdq_eX7"
      },
      "source": [
        "### Stupid Bot"
      ]
    },
    {
      "cell_type": "markdown",
      "metadata": {
        "id": "6-HJr4VAxIwZ"
      },
      "source": [
        "\n",
        "\n",
        "Begin with a class named `StupidBot`. For this class, define the `play()` method to return the same move every time. Because `StupidBot` is dumber than a box of rocks, have it play `Rock` each and every time."
      ]
    },
    {
      "cell_type": "code",
      "metadata": {
        "id": "0IKtr2mrxnqz"
      },
      "source": [
        "# Stupid Bot\n",
        "class StupidBot(Player):\n",
        "  def play(self):\n",
        "    return rock\n",
        "#print('your code here')"
      ],
      "execution_count": null,
      "outputs": []
    },
    {
      "cell_type": "markdown",
      "metadata": {
        "id": "1G0QqALn_hD3"
      },
      "source": [
        "### Random Bot"
      ]
    },
    {
      "cell_type": "markdown",
      "metadata": {
        "id": "-_WRDLY-xzfO"
      },
      "source": [
        "Next, create the class `RandomBot`. This Player will randomly pick and return one of the five possible moves from your moves list."
      ]
    },
    {
      "cell_type": "code",
      "metadata": {
        "id": "8Kt07_vWxzfP"
      },
      "source": [
        "# Random Bot\n",
        "class RandomBot(Player):\n",
        "  def play(self):\n",
        "    randNum = randint(0, 4)\n",
        "    return moves[randNum]\n",
        "#print('your code here')"
      ],
      "execution_count": null,
      "outputs": []
    },
    {
      "cell_type": "markdown",
      "metadata": {
        "id": "xOM88hKL_l-u"
      },
      "source": [
        "### Iterative Bot"
      ]
    },
    {
      "cell_type": "markdown",
      "metadata": {
        "id": "ozADc057x0ax"
      },
      "source": [
        "\n",
        "\n",
        "Your next Player, `IterativeBot`, begins with one Rock and cycles through all the moves, one by one in order, repeating the sequence only after having played all five moves."
      ]
    },
    {
      "cell_type": "code",
      "metadata": {
        "id": "R9rwvbjZx0ay"
      },
      "source": [
        "# Iterative Bot\n",
        "class IterativeBot(Player):\n",
        "  def play(self):\n",
        "    if (self.game.move_history == []):\n",
        "      return rock\n",
        "    else:\n",
        "      lastMove = self.game.move_history[len(self.game.move_history) - 2]\n",
        "      if (lastMove == rock):\n",
        "        return paper\n",
        "      elif (lastMove == paper):\n",
        "        return scissors\n",
        "      elif (lastMove == scissors):\n",
        "        return lizard\n",
        "      elif (lastMove == lizard):\n",
        "        return spock\n",
        "      elif (lastMove == spock):\n",
        "        return rock\n",
        "#print('your code here')"
      ],
      "execution_count": null,
      "outputs": []
    },
    {
      "cell_type": "markdown",
      "metadata": {
        "id": "qXcI2IbA_7Hi"
      },
      "source": [
        "### Last Play Bot"
      ]
    },
    {
      "cell_type": "markdown",
      "metadata": {
        "id": "2CP9_J1ux1M7"
      },
      "source": [
        "\n",
        "\n",
        "Player `LastPlayBot` will always play the move that the opponent played on the previous move. If Player 1, use `Rock` for the first move."
      ]
    },
    {
      "cell_type": "code",
      "metadata": {
        "id": "4ASzJZ1Tx1M8"
      },
      "source": [
        "# Last Play Bot\n",
        "class LastPlayBot(Player):\n",
        "  def play(self):\n",
        "    if (self.game.move_history == []):\n",
        "      return rock\n",
        "    else:\n",
        "      return self.game.move_history[len(self.game.move_history) - 1]\n",
        "#print('your code here')"
      ],
      "execution_count": null,
      "outputs": []
    },
    {
      "cell_type": "markdown",
      "metadata": {
        "id": "VeACedZff9WF"
      },
      "source": [
        "### MyBot"
      ]
    },
    {
      "cell_type": "markdown",
      "metadata": {
        "id": "HtUM77XqgETr"
      },
      "source": [
        "As an optional exercise, define a class `MyBot`. This Player can employ any strategy you determine that differs from the other Players described above. \n",
        "\n",
        "You can describe your strategy as a extended length comment (or text box) in your code. What makes your strategy good? Discuss the advantages and disadvantages of your strategy."
      ]
    },
    {
      "cell_type": "code",
      "metadata": {
        "id": "otYJOEXzgOtK",
        "outputId": "0edc38ab-25dd-471d-edb0-1148969cb92e",
        "colab": {
          "base_uri": "https://localhost:8080/",
          "height": 36
        }
      },
      "source": [
        "# MyBot\n",
        "\n",
        "print('your code here')"
      ],
      "execution_count": null,
      "outputs": [
        {
          "output_type": "stream",
          "text": [
            "your code here\n"
          ],
          "name": "stdout"
        }
      ]
    },
    {
      "cell_type": "markdown",
      "metadata": {
        "id": "ntTTUBhf__jw"
      },
      "source": [
        "### Human Player"
      ]
    },
    {
      "cell_type": "markdown",
      "metadata": {
        "id": "LU7OBYDcx11l"
      },
      "source": [
        "\n",
        "\n",
        "Next, you will define a `Human` class. This Player will ask the user to determine the move. For each turn, the `play()` method will print the options and request input from the user. Be sure to only accept valid moves from the user."
      ]
    },
    {
      "cell_type": "markdown",
      "metadata": {
        "id": "muGq7iTayjsl"
      },
      "source": [
        "***Sample output of a move from Human Player:***\n",
        "\n",
        "(1) : Rock\n",
        "\n",
        "(2) : Paper\n",
        "\n",
        "(3) : Scissors\n",
        "\n",
        "(4) : Lizard\n",
        "\n",
        "(5) : Spock\n",
        "\n",
        "Enter your move: 6\n",
        "\n",
        "Invalid move. Please try again.\n",
        "\n",
        "Enter your move: 2"
      ]
    },
    {
      "cell_type": "markdown",
      "metadata": {
        "id": "7KLKvgVkARjn"
      },
      "source": [
        "##### Reading Standard Input\n",
        "Use this `readInput()` function to request user input. This is required in order to work with either human input or the automatic tests.\n",
        "\n",
        "Example usage:\n",
        "`choice = readInput()`"
      ]
    },
    {
      "cell_type": "code",
      "metadata": {
        "id": "xr00-9fAIKf1"
      },
      "source": [
        "# DO NOT EDIT\n",
        "def readInput():\n",
        "  try:\n",
        "    if sys.stdin == sys.__stdin__:\n",
        "      return int(input())\n",
        "    else:\n",
        "      return int(sys.stdin.readline())  \n",
        "  except:\n",
        "    sys.stderr.write('Enter an integer.\\n')\n",
        "    return -1"
      ],
      "execution_count": null,
      "outputs": []
    },
    {
      "cell_type": "code",
      "metadata": {
        "id": "t20K4nhgx11m"
      },
      "source": [
        "# Human Player\n",
        "class Human(Player):\n",
        "  def play(self):\n",
        "    possible = [\"(1) : Rock\", \"(2) : Paper\", \"(3) : Scissors\", \"(4) : Lizard\", \"(5) : Spock\"]\n",
        "    for i in possible:\n",
        "      print (i)\n",
        "    print (\"Enter your move: \")\n",
        "    choice = readInput()\n",
        "    if (choice > 5 or choice < 1):\n",
        "      print (\"Invalid move.  Please try again\")\n",
        "      return self.play()\n",
        "    return moves[choice - 1]\n",
        "#print('your code here')"
      ],
      "execution_count": null,
      "outputs": []
    },
    {
      "cell_type": "markdown",
      "metadata": {
        "id": "Tty9fK20zOc-"
      },
      "source": [
        "### **Player Self-Check**"
      ]
    },
    {
      "cell_type": "markdown",
      "metadata": {
        "id": "KU_5MuwhzOc_"
      },
      "source": [
        "This Self-Check *might* yield the following output:\n",
        "```\n",
        "('Rock crushes Scissors', 'Lose')\n",
        "```\n",
        "or something similar (note the random)"
      ]
    },
    {
      "cell_type": "code",
      "metadata": {
        "id": "5fv_BmhwzhdO",
        "outputId": "bb2342a1-a781-43c4-838e-9c86cdaa9d40",
        "colab": {
          "base_uri": "https://localhost:8080/",
          "height": 36
        }
      },
      "source": [
        "game = GameState()\n",
        "p1 = StupidBot('StupidBot', game)\n",
        "p2 = RandomBot('RandomBot', game)\n",
        "p1move = p1.play()\n",
        "p2move = p2.play()\n",
        "print(p1move.compareTo(p2move))"
      ],
      "execution_count": null,
      "outputs": [
        {
          "output_type": "stream",
          "text": [
            "('Rock crushes Lizard', 'Win')\n"
          ],
          "name": "stdout"
        }
      ]
    },
    {
      "cell_type": "markdown",
      "metadata": {
        "id": "ylKGaKDRlOho"
      },
      "source": [
        "# Driver Program"
      ]
    },
    {
      "cell_type": "markdown",
      "metadata": {
        "id": "jhAyLkZCiOO2"
      },
      "source": [
        "This is the main (driver) program to test your classes above. It plays five rounds of RPSLS."
      ]
    },
    {
      "cell_type": "code",
      "metadata": {
        "id": "pwynsep93ctr",
        "outputId": "48f1ac5f-d6b9-48f9-c42c-7eff21e46b3f",
        "colab": {
          "base_uri": "https://localhost:8080/",
          "height": 36
        }
      },
      "source": [
        "# run this; do not edit\n",
        "def main(): \n",
        "\t# welcome message\n",
        "  print('Welcome to Rock, Paper, Scissors, Lizard, Spock!\\n')\n",
        "  # get user input for player type\n",
        "  print('Please choose two players: ')\n",
        "  print('1 : Human')\n",
        "  print('2 : StupidBot')\n",
        "  print('3 : RandomBot')\n",
        "  print('4 : IterativeBot')\n",
        "  print('5 : LastPlayBot')\n",
        "  print('6 : MyBot')\n",
        "\n",
        "  # select players\n",
        "  while True:\n",
        "    print('Select player 1: ')\n",
        "    selection = readInput()\n",
        "    player1 = player_selection(selection)   \n",
        "    if player1 is not None:\n",
        "      name1 = player1.name()\n",
        "    print('Select player 2: ')\n",
        "    selection = readInput()\n",
        "    player2 = player_selection(selection)\n",
        "    if player2 is not None:\n",
        "      name2 = player2.name()\n",
        "    if player1 is not None and player2 is not None:\n",
        "      break\n",
        "    print('Invalid choice(s). Please start over.\\n')\n",
        "\n",
        "  # declare battle\n",
        "  print(name1 + ' vs. ' + name2 +'. Go!\\n')\n",
        "\n",
        "  # go through each round\n",
        "  for i in range(1, 6):\n",
        "    print('Round', i, ': ')\n",
        "    round(player1, player2)\n",
        "\n",
        "  # calculate final score and champion\n",
        "  print('Final score is ' + str(player1.game.win1) + ' to ' + str(player1.game.win2) + '.')\n",
        "  if player1.game.win1 > player1.game.win2:\n",
        "    print('Player 1 wins.')\n",
        "  elif player1.game.win2 > player1.game.win1:\n",
        "    print('Player 2 wins.')\n",
        "  else:\n",
        "    print('Game was a draw.')\n",
        "\n",
        "# select the players\n",
        "def player_selection(selection):\n",
        "  game = GameState()\n",
        "  if (selection == '1' or selection == 1):\n",
        "    player = Human('Human', game)\n",
        "  elif (selection == '2'  or selection == 2):\n",
        "    player = StupidBot('StupidBot', game)\n",
        "  elif (selection == '3'  or selection == 3):\n",
        "    player = RandomBot('RandomBot', game)\n",
        "  elif (selection == '4'  or selection == 4):\n",
        "    player = IterativeBot('IterativeBot',game)\n",
        "  elif (selection == '5'  or selection == 5):\n",
        "    player = LastPlayBot('LastPlayBot', game)\n",
        "  elif (selection == '6'  or selection == 6):\n",
        "    player = MyBot('MyBot', game)\n",
        "  else:\n",
        "    player = None\n",
        "  return player\n",
        "\n",
        "# play a single round\n",
        "def round(player1, player2):\n",
        "  # each player makes a move and stores in their move history\n",
        "  p1move = player1.play()\n",
        "  p2move = player2.play()\n",
        "  player1.game.append_history(p1move)\n",
        "  player1.game.append_history(p2move)\n",
        "  player2.game.append_history(p2move)\n",
        "  player2.game.append_history(p1move)\n",
        "  print('Player 1 chose ' + p1move.name()) \n",
        "  print('Player 2 chose ' + p2move.name()) \n",
        "  print(p1move.compareTo(p2move)[0])\n",
        "  # calculate and print outcome\n",
        "  if p1move.compareTo(p2move)[1] == 'Win':\n",
        "    print('Player 1 won the round.\\n')\n",
        "    player1.game.add_win1()\n",
        "  elif p1move.compareTo(p2move)[1] == 'Lose':\n",
        "    print('Player 2 won the round.\\n')\n",
        "    player1.game.add_win2()\n",
        "  else:\n",
        "    print('Round was a tie.\\n')\n",
        "print()"
      ],
      "execution_count": null,
      "outputs": [
        {
          "output_type": "stream",
          "text": [
            "\n"
          ],
          "name": "stdout"
        }
      ]
    },
    {
      "cell_type": "markdown",
      "metadata": {
        "id": "cOTDne0cHj59"
      },
      "source": [
        "# Manual Testing"
      ]
    },
    {
      "cell_type": "markdown",
      "metadata": {
        "id": "sgcvGkpegph-"
      },
      "source": [
        "> If you've previously run the Automatic Tests below, you will need to `Runtime=>Restart and Run all`. This is necessary to reset the `stdout` (otherwise you might not see any prints). "
      ]
    },
    {
      "cell_type": "code",
      "metadata": {
        "id": "K17L8KSZrHCA",
        "outputId": "7d8995a9-4814-4b93-96c6-492797e81500",
        "colab": {
          "base_uri": "https://localhost:8080/",
          "height": 897
        }
      },
      "source": [
        "# Run a single game to stdout\n",
        "main()"
      ],
      "execution_count": null,
      "outputs": [
        {
          "output_type": "stream",
          "text": [
            "Welcome to Rock, Paper, Scissors, Lizard, Spock!\n",
            "\n",
            "Please choose two players: \n",
            "1 : Human\n",
            "2 : StupidBot\n",
            "3 : RandomBot\n",
            "4 : IterativeBot\n",
            "5 : LastPlayBot\n",
            "6 : MyBot\n",
            "Select player 1: \n",
            "4\n",
            "Select player 2: \n",
            "4\n",
            "IterativeBot vs. IterativeBot. Go!\n",
            "\n",
            "Round 1 : \n",
            "Player 1 chose Rock\n",
            "Player 2 chose Rock\n",
            "Rock equals Rock\n",
            "Round was a tie.\n",
            "\n",
            "Round 2 : \n",
            "Player 1 chose Paper\n",
            "Player 2 chose Paper\n",
            "Paper equals Paper\n",
            "Round was a tie.\n",
            "\n",
            "Round 3 : \n",
            "Player 1 chose Scissors\n",
            "Player 2 chose Scissors\n",
            "Scissors equals Scissors\n",
            "Round was a tie.\n",
            "\n",
            "Round 4 : \n",
            "Player 1 chose Lizard\n",
            "Player 2 chose Lizard\n",
            "Lizard equals Lizard\n",
            "Round was a tie.\n",
            "\n",
            "Round 5 : \n",
            "Player 1 chose Spock\n",
            "Player 2 chose Spock\n",
            "Spock equals Spock\n",
            "Round was a tie.\n",
            "\n",
            "Final score is 0 to 0.\n",
            "Game was a draw.\n"
          ],
          "name": "stdout"
        }
      ]
    },
    {
      "cell_type": "markdown",
      "metadata": {
        "id": "XWriOYa8fJJ-"
      },
      "source": [
        "# Testing"
      ]
    },
    {
      "cell_type": "markdown",
      "metadata": {
        "id": "ATxxa-GUfKy8"
      },
      "source": [
        "### Download Tests"
      ]
    },
    {
      "cell_type": "markdown",
      "metadata": {
        "id": "fSyt4xaNCCTQ"
      },
      "source": [
        "Run the following code to download the test set."
      ]
    },
    {
      "cell_type": "code",
      "metadata": {
        "id": "sM_gCOkIn4a7"
      },
      "source": [
        "# run this; do not edit\n",
        "from os import path\n",
        "# url of the data tests archive\n",
        "url = 'https://github.com/Soundbendor/cs381/raw/master/tests.tar'\n",
        "tar_file = 'tests.tar'\n",
        "# download file and untar\n",
        "if (not path.exists(tar_file)):\n",
        "  !rm -rf ./tests\n",
        "  !rm -rf ./myout\n",
        "  !mkdir ./tests\n",
        "  !mkdir ./myout\n",
        "  !wget $url\n",
        "  !tar -xf $tar_file -C ./tests\n",
        "else:\n",
        "  print('Tests have already been downloaded.')"
      ],
      "execution_count": null,
      "outputs": []
    },
    {
      "cell_type": "markdown",
      "metadata": {
        "id": "wAzAfDL9fMwI"
      },
      "source": [
        "### Run Test Suite"
      ]
    },
    {
      "cell_type": "markdown",
      "metadata": {
        "id": "DTkOZo-PhZAC"
      },
      "source": [
        "This code runs the automatic tests. You do not need to edit. "
      ]
    },
    {
      "cell_type": "code",
      "metadata": {
        "id": "p2Ok8baU7jzy",
        "outputId": "0394fdda-6e53-4b9f-db61-40bb757117ca",
        "colab": {
          "base_uri": "https://localhost:8080/",
          "height": 49,
          "referenced_widgets": [
            "1be81dd2c85b4af8b9e3faf63c4c982a",
            "988985e90a3842529022b980c038eb61",
            "2cb4ed76c9f9481bb2ff97cbfe991660",
            "56bba390415f4a34906ab429eeada1a1",
            "1ca60af4672c47e684559f80093dd63a",
            "b92eb6bf366f42d081e8a9b6527c4d90",
            "23cf7c9a667f4fe2810ce68fb58c2bf7",
            "b8cae139cd0a46f49070032e21552663"
          ]
        }
      },
      "source": [
        "# run this; do not edit\n",
        "import os\n",
        "import sys\n",
        "import glob\n",
        "import filecmp \n",
        "import difflib\n",
        "from tqdm.notebook import tqdm\n",
        "tqdm().pandas()\n",
        "\n",
        "# run one test\n",
        "def run_test(test, verbose=False):\n",
        "    outf = '/content/tests/'+test.replace('.in','.out')\n",
        "    myoutf ='/content/myout/'+test.replace('.in','.myout')\n",
        "    if os.path.exists(myoutf):\n",
        "      os.remove(myoutf)\n",
        "\n",
        "    # print header  \n",
        "    sys.stderr.write('***************\\n')\n",
        "    sys.stderr.write('* Test ' + test + '\\n')\n",
        "    sys.stderr.write('***************\\n')\n",
        "\n",
        "    # check if test exists\n",
        "    try:\n",
        "      test_input = open('/content/tests/'+test, 'r')\n",
        "    except:\n",
        "     sys.stderr.write('Test ' + test + ' was not found')\n",
        "     sys.stdout =  sys.__stdout__\n",
        "     return\n",
        "\n",
        "    # run lab \n",
        "    sys.stdin = test_input\n",
        "    test_output = open(myoutf, 'w')\n",
        "    sys.stdout = test_output\n",
        "    main()\n",
        "    test_output.close()\n",
        "    test_input.close()\n",
        "    sys.stdout = sys.__stdout__\n",
        "    sys.stdin = sys.__stdin__\n",
        "    # compare output\n",
        "    comp = filecmp.cmp(outf, myoutf, shallow = False) \n",
        "    with open(outf, 'r') as f1:\n",
        "      f1_text = f1.read()\n",
        "      f1.close()\n",
        "    with open(myoutf) as f2:\n",
        "      f2_text = f2.read()\n",
        "      f2.close()\n",
        "    if verbose:\n",
        "      # print the character differences\n",
        "      for line in difflib.unified_diff(f1_text, f2_text, fromfile='out', tofile='myout', lineterm='\\n'):\n",
        "        sys.stderr.write(line+'\\n')\n",
        "    if comp==True:\n",
        "      sys.stderr.write('  Passed\\n')\n",
        "    else:\n",
        "      sys.stderr.write('  Failed\\n')\n",
        "\n",
        "# run all tests\n",
        "def run_tests(verbose=False):\n",
        "  tests = sorted(map(os.path.basename, glob.glob('./tests/*.in')))\n",
        "  for test in tqdm(tests):\n",
        "    run_test(test,verbose)"
      ],
      "execution_count": null,
      "outputs": [
        {
          "output_type": "display_data",
          "data": {
            "application/vnd.jupyter.widget-view+json": {
              "model_id": "1be81dd2c85b4af8b9e3faf63c4c982a",
              "version_minor": 0,
              "version_major": 2
            },
            "text/plain": [
              "HBox(children=(FloatProgress(value=1.0, bar_style='info', max=1.0), HTML(value='')))"
            ]
          },
          "metadata": {
            "tags": []
          }
        }
      ]
    },
    {
      "cell_type": "markdown",
      "metadata": {
        "id": "0k-DsAFdB5ET"
      },
      "source": [
        "### Run a single test"
      ]
    },
    {
      "cell_type": "markdown",
      "metadata": {
        "id": "opT9dl0Chevy"
      },
      "source": [
        "This runs a single test. You can change the test by specifying the argument."
      ]
    },
    {
      "cell_type": "code",
      "metadata": {
        "id": "lfFfYwlOhBpe",
        "outputId": "7824972b-c7c7-458c-c8cf-6ca957816817",
        "colab": {
          "base_uri": "https://localhost:8080/",
          "height": 92
        }
      },
      "source": [
        "# run a single test, e.g. 't01.in'\n",
        "run_test('t54.in', verbose=True)"
      ],
      "execution_count": null,
      "outputs": [
        {
          "output_type": "stream",
          "text": [
            "***************\n",
            "* Test t54.in\n",
            "***************\n",
            "  Passed\n"
          ],
          "name": "stderr"
        }
      ]
    },
    {
      "cell_type": "markdown",
      "metadata": {
        "id": "4H9MG2FaB7Mh"
      },
      "source": [
        "### Run the test suite"
      ]
    },
    {
      "cell_type": "markdown",
      "metadata": {
        "id": "eRC1_zkNhnK0"
      },
      "source": [
        "This will run all the tests."
      ]
    },
    {
      "cell_type": "code",
      "metadata": {
        "id": "6uF0HcKwfn4e",
        "outputId": "220e2ad2-1fe7-4857-bf04-dc528413f9b6",
        "colab": {
          "base_uri": "https://localhost:8080/",
          "height": 1000,
          "referenced_widgets": [
            "a3e6517b4aa34110bb38c8d4a117234f",
            "234ba72890ce4fe7811984d30cddd64b",
            "7b8d2911b8b34dab8e224ff6a2da9e9e",
            "654b40250c6745b1a2b9e04f3cdf8cef",
            "e3d931ebf6674abe863d6f515172c442",
            "0199ad9dd86c434fa7ba65f95dc73a5e",
            "87c37aba66e44da1af3b6d934a94f879",
            "e33ac5983f3e4481a280c9ef613940f9"
          ]
        }
      },
      "source": [
        "# run all tests\n",
        "run_tests(verbose=False)"
      ],
      "execution_count": null,
      "outputs": [
        {
          "output_type": "display_data",
          "data": {
            "application/vnd.jupyter.widget-view+json": {
              "model_id": "a3e6517b4aa34110bb38c8d4a117234f",
              "version_minor": 0,
              "version_major": 2
            },
            "text/plain": [
              "HBox(children=(FloatProgress(value=0.0, max=13.0), HTML(value='')))"
            ]
          },
          "metadata": {
            "tags": []
          }
        },
        {
          "output_type": "stream",
          "text": [
            "***************\n",
            "* Test t01.in\n",
            "***************\n",
            "  Passed\n",
            "***************\n",
            "* Test t02.in\n",
            "***************\n",
            "  Passed\n",
            "***************\n",
            "* Test t03.in\n",
            "***************\n",
            "  Passed\n",
            "***************\n",
            "* Test t04.in\n",
            "***************\n",
            "  Passed\n",
            "***************\n",
            "* Test t21.in\n",
            "***************\n",
            "  Passed\n",
            "***************\n",
            "* Test t22.in\n",
            "***************\n",
            "  Passed\n",
            "***************\n",
            "* Test t41.in\n",
            "***************\n",
            "  Passed\n",
            "***************\n",
            "* Test t42.in\n",
            "***************\n",
            "  Passed\n",
            "***************\n",
            "* Test t44.in\n",
            "***************\n",
            "  Passed\n",
            "***************\n",
            "* Test t51.in\n",
            "***************\n",
            "  Passed\n",
            "***************\n",
            "* Test t52.in\n",
            "***************\n",
            "  Passed\n",
            "***************\n",
            "* Test t54.in\n",
            "***************\n",
            "  Passed\n",
            "***************\n",
            "* Test t55.in\n",
            "***************\n",
            "  Passed\n"
          ],
          "name": "stderr"
        }
      ]
    },
    {
      "cell_type": "markdown",
      "metadata": {
        "id": "m609obD1osvq"
      },
      "source": [
        "<img src=\"https://66.media.tumblr.com/dded9d1a2bf2068f92af9f7a9b6b5451/tumblr_p6s3hbPzgV1vd8jsjo1_500.gifv\" width=\"300\">"
      ]
    }
  ]
}